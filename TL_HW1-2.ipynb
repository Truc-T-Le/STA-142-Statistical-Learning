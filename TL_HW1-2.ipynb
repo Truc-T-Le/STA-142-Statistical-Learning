{
 "cells": [
  {
   "cell_type": "markdown",
   "id": "7e195953",
   "metadata": {},
   "source": [
    "# STA 141C HW # 1\n",
    "## Truc Le"
   ]
  },
  {
   "cell_type": "code",
   "execution_count": 2,
   "id": "78735a12",
   "metadata": {},
   "outputs": [],
   "source": [
    "import pandas as pd\n",
    "import numpy as np\n",
    "import matplotlib.pyplot as plt"
   ]
  },
  {
   "cell_type": "markdown",
   "id": "55efc89f",
   "metadata": {},
   "source": [
    "# Problem 1"
   ]
  },
  {
   "cell_type": "markdown",
   "id": "27a77385",
   "metadata": {},
   "source": [
    "## A)"
   ]
  },
  {
   "cell_type": "markdown",
   "id": "4494a174",
   "metadata": {},
   "source": [
    "Since we know the true relationship between X and Y are linear, we would expect the least square line to be a close approximation of the true linear regression line. Since the RSS measures the variance of the regression model, we would expect the training RSS for the linear regression to be lower than the RSS for the cubic regression.  "
   ]
  },
  {
   "cell_type": "markdown",
   "id": "d56e681a",
   "metadata": {},
   "source": [
    "## B)"
   ]
  },
  {
   "cell_type": "markdown",
   "id": "294ccd2d",
   "metadata": {},
   "source": [
    "We do not have enough information to tell which RSS would give a lower value in this case, since we do not know what the testing data is. However, if we use the same logic as (A), we would assume the testing RSS for the linear regression to be lower than the RSS for the cubic regression due to the true relationship between X and Y being linear. "
   ]
  },
  {
   "cell_type": "markdown",
   "id": "763be8c5",
   "metadata": {},
   "source": [
    "## C)"
   ]
  },
  {
   "cell_type": "markdown",
   "id": "9d0e303c",
   "metadata": {},
   "source": [
    "In this case, we know that the true relationship between X and Y are not linear, we would want to use a regression model that give us the most flexibility when fitting a least square line. Therefore, we would expect the cubic regression model to have a better fit to the data points than the linear regression model, hence, the training cubic regression would have a lower RSS in this case."
   ]
  },
  {
   "cell_type": "markdown",
   "id": "139d7ea8",
   "metadata": {},
   "source": [
    "# D)"
   ]
  },
  {
   "cell_type": "markdown",
   "id": "6fb53735",
   "metadata": {},
   "source": [
    "Since we do not know what the testing data look like, therefore, we do not have enough information to say which regressions would be lower. However, if we use the same logic as (C) and make the assumption that the true relationship between X and Y is not linear, we would then expect the testing RSS cubic regression would be lower due to its high flexibility in fitting the data."
   ]
  },
  {
   "cell_type": "markdown",
   "id": "6472ebf5",
   "metadata": {},
   "source": [
    "# Problem 2"
   ]
  },
  {
   "cell_type": "markdown",
   "id": "17da1ab2",
   "metadata": {},
   "source": [
    "## A)"
   ]
  },
  {
   "cell_type": "markdown",
   "id": "18087c9e",
   "metadata": {},
   "source": [
    "I first generated 100 random uniform xs and 100 random normally distributed variance. I then calculated the y data points using the linear regression model by plugging in the generated xs and epsilon random variables I previously calculated. From there, I plotted the scatter plot of my x and y variables and fitted a least square line onto the graph. "
   ]
  },
  {
   "cell_type": "code",
   "execution_count": 7,
   "id": "7db6483c",
   "metadata": {
    "hideCode": true
   },
   "outputs": [
    {
     "data": {
      "image/png": "[encoded data removed]",
      "text/plain": [
       "<Figure size 432x288 with 1 Axes>"
      ]
     },
     "metadata": {
      "needs_background": "light"
     },
     "output_type": "display_data"
    }
   ],
   "source": [
    "np.random.seed(0)\n",
    "# generating 100 random samples from the uniform distribution  \n",
    "xs = np.random.uniform(0,1,100)\n",
    "\n",
    "\n",
    "# generating 100 random samples from the normal distribution  \n",
    "es = np.random.normal(0, 1, 100)\n",
    "ys = 5 + 3*xs + np.random.normal(0, 1, 100)\n",
    "\n",
    "(b1, b), (SSE,), *_ = np.polyfit(xs, ys, deg=1, full=True)\n",
    "\n",
    "# Scatterplot with the generated random samples with least square line\n",
    "plt.plot(xs, b1*xs+b)\n",
    "plt.scatter(xs, ys,)\n",
    "plt.show()"
   ]
  },
  {
   "cell_type": "markdown",
   "id": "2cb70757",
   "metadata": {},
   "source": [
    "## B)"
   ]
  },
  {
   "cell_type": "markdown",
   "id": "265773ac",
   "metadata": {},
   "source": [
    "I created a function that would calculate the $\\hat\\beta_{1}$ coefficients 1000 times and stored all of them into a list and return the list. I then calculated the average of the $\\hat\\beta_{1}$ by summing all of the values in the list and dividing it by 1000. From there, I plotted a histogram using the 1000 $\\hat\\beta_{1}$ coefficient values and found that the mean of the histogram is around the same value as the calculated average value. "
   ]
  },
  {
   "cell_type": "markdown",
   "id": "ed92f2fb",
   "metadata": {},
   "source": [
    "The calculated value of the means of the $\\hat\\beta_{1}$ coefficients is 3.0010314639108975"
   ]
  },
  {
   "cell_type": "markdown",
   "id": "4f863e65",
   "metadata": {},
   "source": [
    "The histogram graph for the 1000 $\\hat\\beta_{1}$ with calculating epsilon using the normal distribution method:"
   ]
  },
  {
   "cell_type": "code",
   "execution_count": 3,
   "id": "440c99c2",
   "metadata": {
    "hideCode": true
   },
   "outputs": [
    {
     "data": {
      "image/png": "[encoded data removed]",
      "text/plain": [
       "<Figure size 432x288 with 1 Axes>"
      ]
     },
     "metadata": {
      "needs_background": "light"
     },
     "output_type": "display_data"
    }
   ],
   "source": [
    "#Generating 1000 sample using normal distribution to calculate epsilon and uniform distribution to calculate xi\n",
    "def linear_reg_norm(mu, sigma, size):\n",
    "    b = []\n",
    "    np.random.seed(1)\n",
    "    for i in range(1000):\n",
    "        x = np.random.uniform(mu,sigma,size)\n",
    "        e = np.random.normal(mu, sigma, size)\n",
    "        y = 5 + 3*x + e\n",
    "        (b1_hat, b_hat), (SSE,), *_ = np.polyfit(x, y, deg=1, full=True)\n",
    "        b.append(b1_hat)\n",
    "    return b\n",
    "\n",
    "lin_norm = linear_reg_norm(0, 1, 1000)\n",
    "b_hat_avg = sum(lin_norm) / len(lin_norm)\n",
    "plt.hist(lin_norm)\n",
    "plt.ylabel('frequency')\n",
    "plt.xlabel('b_hat values')\n",
    "plt.show()"
   ]
  },
  {
   "cell_type": "markdown",
   "id": "b014fb63",
   "metadata": {},
   "source": [
    "## C)"
   ]
  },
  {
   "cell_type": "markdown",
   "id": "e22a68e1",
   "metadata": {},
   "source": [
    "In this function, I calculated epsilons with the standard cauchy distribution method rather than the normal distribution. Similar to the function above, this function calculate 1000 $\\hat\\beta_{1}$ and return a list of the $\\hat\\beta_{1}$ values. Taking the values from the list, I calculated the mean of the 1000 $\\hat\\beta_{1}$ generated using the Cauchy distribution method. After that, I made a histogram plot for these set of $\\hat\\beta_{1}$ values and observed that the histogram was more centralized around a value while the previous $\\hat\\beta_{1}$ dataset was more spread out. "
   ]
  },
  {
   "cell_type": "markdown",
   "id": "ae84c567",
   "metadata": {},
   "source": [
    "The calculated value of the means of the $\\hat\\beta_{1}$ coefficients is 2.196663152813556"
   ]
  },
  {
   "cell_type": "markdown",
   "id": "9a9ce311",
   "metadata": {},
   "source": [
    "The histogram graph for the 1000 $\\hat\\beta_{1}$ with calculating epsilon using the standard Cauchy distribution method:"
   ]
  },
  {
   "cell_type": "code",
   "execution_count": 9,
   "id": "eee02b86",
   "metadata": {
    "hideCode": true
   },
   "outputs": [
    {
     "name": "stdout",
     "output_type": "stream",
     "text": [
      "2.196663152813556\n"
     ]
    },
    {
     "data": {
      "image/png": "[encoded data removed]",
      "text/plain": [
       "<Figure size 432x288 with 1 Axes>"
      ]
     },
     "metadata": {
      "needs_background": "light"
     },
     "output_type": "display_data"
    }
   ],
   "source": [
    "# creating the 1000 samples using standard Cauchy distribution \n",
    "def linear_reg_cauch(mu, sigma, size):\n",
    "    b = []\n",
    "    np.random.seed(2)\n",
    "    for i in range(1000):\n",
    "        x = np.random.uniform(mu,sigma,size)\n",
    "        c = np.random.standard_cauchy(size)\n",
    "        y = 5 + 3*x + c\n",
    "        (b1_hat, b_hat), (SSE,), *_ = np.polyfit(x, y, deg=1, full=True)\n",
    "        b.append(b1_hat)\n",
    "    return b\n",
    "\n",
    "#Creating the histogram plots for the coefficients created using the standard Cauchy distribution\n",
    "lin_cauch = linear_reg_cauch(0, 1, 1000)\n",
    "b_hat_avg_cauch = sum(lin_cauch) / len(lin_cauch)\n",
    "print(b_hat_avg_cauch)\n",
    "plt.hist(lin_cauch)\n",
    "plt.ylabel('frequency')\n",
    "plt.xlabel('b_hat values')\n",
    "plt.show()"
   ]
  },
  {
   "cell_type": "markdown",
   "id": "464c4b5e",
   "metadata": {},
   "source": [
    "# Problem 3"
   ]
  },
  {
   "cell_type": "markdown",
   "id": "8e1389df",
   "metadata": {},
   "source": [
    "## a)"
   ]
  },
  {
   "cell_type": "markdown",
   "id": "feb1abf4",
   "metadata": {},
   "source": [
    "$x_{1} = $ 40 hours of studying &emsp;&emsp; $x_{2} = $ 3.5 GPA &emsp;&emsp; Y = Recieving an A &emsp;&emsp;\n",
    "$\\hat\\beta_{0}$ =  -6 &emsp;&emsp; $\\hat\\beta_{1} = $ 0.05 &emsp;&emsp; $\\hat\\beta_{2} = $ 1 <br>\n",
    "<br>\n",
    "$\\hat P$(Y = A | $X_{1}$= 40 hours of studying, $X_{2}$ = 3.5 GPA) = \n",
    "$\\Large\\frac{e^{\\hat\\beta_{0} + \\hat\\beta_{1}x_{1} + \\hat\\beta_{2}x_{2}}}{1 + e^{\\hat\\beta_{0} + \\hat\\beta_{1}x_{1} + \\hat\\beta_{2}x_{2}}}$ = \n",
    "$\\Large\\frac{e^{(-6) + (0.05)(40) + (1)(3.5)}}{1 + e^{(-6) + (0.05)(40) + (1)(3.5)}}$ = \n",
    "$0.3775$\n",
    "<br>\n",
    "<br>\n",
    "\n",
    "The probability of the student getting an A while studying for 40 hours and having a 3.5 GPA is 37.75%."
   ]
  },
  {
   "cell_type": "markdown",
   "id": "cd2947d3",
   "metadata": {},
   "source": [
    "## b)"
   ]
  },
  {
   "cell_type": "markdown",
   "id": "1666bb9f",
   "metadata": {},
   "source": [
    "$x_{1} = $ ?  &emsp;&emsp; $x_{2} = $ 3.5 GPA &emsp;&emsp; Y = Recieving an A &emsp;&emsp;\n",
    "$\\hat\\beta_{0}$ =  -6 &emsp;&emsp; $\\hat\\beta_{1} = $ 0.05 &emsp;&emsp; $\\hat\\beta_{2} = $ 1 &emsp;&emsp;\n",
    "$\\hat P$(Y = Getting an A| X1, X2) = 0.5 \n",
    "<br>\n",
    "<br>\n",
    "$\\hat P$(Y = A | $X_{1}$= ?, $X_{2}$ = 3.5 GPA) = 0.5 <br> <br>\n",
    "$\\normalsize = \\frac{e^{(-6) + (0.05)X_{1} + (1)(3.5)}}{1 + e^{(-6) + (0.05)X_{1} + (1)(3.5)}} = 0.5$ <br>\n",
    "\n",
    "$\\normalsize e^{(-6) + (0.05)X_{1} + (1)(3.5)} = 0.5 + 0.5e^{(-6) + (0.05)X_{1} + (1)(3.5)}$ <br> <br>\n",
    "$\\normalsize e^{(-6) + (0.05)X_{1} + (1)(3.5)} = 1$ <br> <br>\n",
    "$\\small ln(e^{(-6) + (0.05)X_{1} + (1)(3.5)}) = ln(1)$ <br> <br>\n",
    "$\\small (-6) + (0.05)X_{1} + (1)(3.5) = 0$ <br> <br>\n",
    "$\\small (0.05)X_{1} = 2.5$ <br> <br>\n",
    "$\\normalsize X_{1} =  \\frac{2.5}{0.05}$ <br> <br>\n",
    "$\\normalsize X_{1} =$ 50 hours of studying\n",
    "<br> <br>\n",
    "The students need to study at least 50 hours in order to get a 50% chance of getting an A in the course"
   ]
  },
  {
   "cell_type": "markdown",
   "id": "8c335b28",
   "metadata": {},
   "source": [
    "# Problem 4"
   ]
  },
  {
   "cell_type": "markdown",
   "id": "716c4b25",
   "metadata": {},
   "source": [
    "P(X = 1| Y = 0) = 1/3  &emsp;&emsp; P(X = 1| Y = 1) = 0 <br>\n",
    "\n",
    "\n",
    "P(X = 2| Y = 0) = 2/3  &emsp;&emsp; P(X = 2| Y = 1) = 1/3 <br>\n",
    "\n",
    "\n",
    "P(X = 3| Y = 0) = 0  &emsp;&emsp; P(X = 3| Y = 1) = 2/3 <br><br>\n",
    "\n",
    "P(Y = 0| X = 1) = $\\frac{P(X = 1|Y = 0)P(Y = 0)}{P(X = 1|Y = 0)P(Y = 0) + P(X = 1|Y = 1)P(Y = 1)}$ = $\\frac{(1/3)(1/2)}{(1/3)(1/2) + (0)(1/2)}$ = 1\n",
    "\n",
    "<br>\n",
    "\n",
    "P(Y = 0| X = 2) = $\\frac{P(X = 2|Y = 0)P(Y = 0)}{P(X = 2|Y = 0)P(Y = 0) + P(X = 2|Y = 1)P(Y = 1)}$ = $\\frac{(2/3)(1/2)}{(2/3)(1/2) + (1/3)(1/2)}$ = $\\frac{2}{3}$\n",
    "\n",
    "<br>\n",
    "\n",
    "P(Y = 0| X = 3) = $\\frac{P(X = 3|Y = 0)P(Y = 0)}{P(X = 3|Y = 0)P(Y = 0) + P(X = 3|Y = 1)P(Y = 1)}$ = $\\frac{(0)(1/2)}{(0)(1/2) + (2/3)(1/2)}$ = 0\n",
    "\n",
    "<br>\n",
    "\n",
    "P(Y = 1| X = 1) = $\\frac{P(X = 1|Y = 1)P(Y = 1)}{P(X = 1|Y = 0)P(Y = 1) + P(X = 1|Y = 0)P(Y = 0)}$ = $\\frac{(0)(1/2)}{(0)(1/2) + (1/3)(1/2)}$ = 0\n",
    "\n",
    "<br>\n",
    "\n",
    "P(Y = 1| X = 2) = $\\frac{P(X = 2|Y = 1)P(Y = 1)}{P(X = 2|Y = 0)P(Y = 1) + P(X = 2|Y = 0)P(Y = 0)}$ = $\\frac{(1/3)(1/2)}{(1/3)(1/2) + (2/3)(1/2)}$ = $\\frac{1}{3}$\n",
    "\n",
    "<br>\n",
    "\n",
    "P(Y = 1| X = 3) = $\\frac{P(X = 3|Y = 1)P(Y = 1)}{P(X = 3|Y = 0)P(Y = 1) + P(X = 3|Y = 0)P(Y = 0)}$ = $\\frac{(2/3)(1/2)}{(2/3)(1/2) + (0)(1/2)}$ = 1\n",
    "\n",
    "\n",
    "$f^{*}(X=1)$ = 1 when Y = 0\n",
    "<br>\n",
    "$f^{*}(X=2)$ = $\\frac{2}{3}$ when Y = 0\n",
    "<br>\n",
    "$f^{*}(X=3)$ = 1 when Y = 1\n"
   ]
  },
  {
   "cell_type": "markdown",
   "id": "b26dd255",
   "metadata": {},
   "source": [
    "Please sign below (Truc Le) after checking ($\\checkmark$)  the following. If you can not honestly check each of these responses, please email me at kbala@ucdavis.edu to explain your situation.\n",
    "* We pledge that we are honest students with academic integrity and we have not cheated on this homework.\n",
    "\n",
    "* These answers are our own work.\n",
    "\n",
    "* We did not give any other students assistance on this homework.\n",
    "\n",
    "* We understand that to submit work that is not our own and pretend that it is our is a violation of the UC Davis code of conduct and will be reported to Student Judicial Affairs.\n",
    "\n",
    "* We understand that suspected misconduct on this homework will be reported to the Office of Student Support and Judicial Affairs and, if established, will result in disciplinary sanctions up through Dismissal from the University and a grade penalty up to a grade of \"F\" for the course.\n",
    "\n",
    "Team Member 1: Truc Le\n"
   ]
  }
 ],
 "metadata": {
  "celltoolbar": "Hide code",
  "kernelspec": {
   "display_name": "Python 3",
   "language": "python",
   "name": "python3"
  },
  "language_info": {
   "codemirror_mode": {
    "name": "ipython",
    "version": 3
   },
   "file_extension": ".py",
   "mimetype": "text/x-python",
   "name": "python",
   "nbconvert_exporter": "python",
   "pygments_lexer": "ipython3",
   "version": "3.8.5"
  }
 },
 "nbformat": 4,
 "nbformat_minor": 5
}
