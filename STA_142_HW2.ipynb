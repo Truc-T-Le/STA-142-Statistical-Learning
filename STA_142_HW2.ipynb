{
 "cells": [
  {
   "cell_type": "markdown",
   "id": "8825d1bb",
   "metadata": {},
   "source": [
    "# STA 142A Homework 2 \n",
    "\n",
    "# Truc Le and Alexander Chernikov\n"
   ]
  },
  {
   "cell_type": "code",
   "execution_count": null,
   "id": "bd73e163",
   "metadata": {
    "hideCode": false
   },
   "outputs": [],
   "source": [
    "import random\n",
    "import numpy as np\n",
    "import pandas as pd\n",
    "import matplotlib.pyplot as plt\n",
    "from sklearn import svm\n",
    "import random\n",
    "from sklearn import metrics\n",
    "from sklearn.linear_model import LogisticRegression\n",
    "from sklearn.discriminant_analysis import LinearDiscriminantAnalysis\n",
    "from sklearn.datasets import load_iris"
   ]
  },
  {
   "cell_type": "markdown",
   "id": "90b251c6",
   "metadata": {},
   "source": [
    "## Problem 1: Poisson Classifier for Multiclass Classification\n",
    "\n",
    "\\begin{equation*}\n",
    "P(Y = 1|X) = \\frac{(\\beta X)^{k}}{k!}e^{-(\\beta X)}\n",
    "\\end{equation*}\n"
   ]
  },
  {
   "cell_type": "markdown",
   "id": "b04b5b5e",
   "metadata": {},
   "source": [
    "### (a) \n",
    "\n",
    "The above multi-class classfication model uses a discriminative approach, since we are told that the model provides the conditional distribution of the output Y given X. In addition, we know that the standard model for Y is the Poisson regression, and Poisson regression is a generalized linear model form of regression analysis use to make model for count data [1](https://en.wikipedia.org/wiki/Poisson_regression). We know that discriminitive model is use to for regression, therefore, the Poisson regression model above uses discriminitive approach."
   ]
  },
  {
   "cell_type": "markdown",
   "id": "01c794e2",
   "metadata": {},
   "source": [
    "### (b)\n",
    "\n",
    "$$L(\\beta; x_{1},...,x_{n}) = \\prod_{i=1}^{n}\\frac{(\\beta X)^{k_i}}{k_{i}!}e^{-(\\beta X)}$$ <br>\n",
    "$$l(\\beta; x_{1},...,x_{n}) = ln(\\prod_{i=1}^{n}\\frac{(\\beta X)^{k_i}}{k_{i}!}e^{-(\\beta X)})$$ <br>\n",
    "$$l(\\beta; x_{1},...,x_{n}) = \\prod_{i=1}^{n}[ln((\\beta X)^{k_i})+ln(e^{-(\\beta X)})-ln(k_{i}!)]$$ <br>\n",
    "$$l(\\beta; x_{1},...,x_{n}) = \\prod_{i=1}^{n}[k_iln(\\beta X)-\\beta X-ln(k_i!)]$$ <br>\n",
    "$$l(\\beta; x_{1},...,x_{n}) = -n(\\beta X) + ln(\\beta X)\\sum_{i=1}^{n}k_i - \\sum_{i=1}^{n}ln(k_{i}!)$$ <br> \n",
    "$$\\frac{d}{d\\beta}l(\\beta; x_{1},...,x_{n}) = \\frac{d}{d\\beta}(-n(\\beta X) + ln(\\beta X)\\sum_{i=1}^{n}k_i - \\sum_{i=1}^{n}ln(k_{i}!))$$ <br>\n",
    "$$\\frac{d}{d\\beta}l(\\beta; x_{1},...,x_{n}) = -nX + \\frac{1}{\\beta}\\sum_{i=1}^{n}k_i$$ <br> \n",
    "$$-nX + \\frac{1}{\\beta}\\sum_{i=1}^{n}k_i = 0$$ <br>\n",
    "$$\\frac{1}{\\beta}\\sum_{i=1}^{n}k_i = nX$$ <br>\n",
    "$$\\hat{\\beta} = \\frac{1}{nX}\\sum_{i=1}^{n}k_i$$\n",
    "\n"
   ]
  },
  {
   "cell_type": "markdown",
   "id": "7d664ab1",
   "metadata": {},
   "source": [
    "### (c)\n",
    "\n",
    "When given a new sample x, in order to decide which class it belongs to we must log-odd ratio of the given formula.\n",
    "\n",
    "\\begin{equation*}\n",
    "log\\frac{p(Y=1|X)}{p(Y=-1|X)} = log(\\frac{\\frac{(\\beta X)^{k}}{k!}e^{-(\\beta X)}}{1-\\frac{(\\beta X)^{k}}{k!}e^{-(\\beta X)}})\n",
    "= log(\\frac{1}{e^{2\\beta X}})= -2\\beta X\n",
    "\\end{equation*}\n",
    "\n",
    "The log-odd is a linear function in the case of Poisson Regression. Hence, Poisson regression is equivalent of linear regression in a way for classification."
   ]
  },
  {
   "cell_type": "markdown",
   "id": "3171377e",
   "metadata": {},
   "source": [
    "## Problem 2: Logistic Regression versus LDA."
   ]
  },
  {
   "cell_type": "code",
   "execution_count": null,
   "id": "2ab30fd7",
   "metadata": {
    "hideCode": false
   },
   "outputs": [],
   "source": [
    "# generating 100 random x values\n",
    "\n",
    "# function to create the data \n",
    "def data(mu):\n",
    "    # binomial distribution\n",
    "    s = np.random.binomial(1, 0.5, 100)\n",
    "    unique, counts = np.unique(s, return_counts=True)\n",
    "    df = []\n",
    "    # t-distribution\n",
    "    x1 = np.random.standard_t(df=1,size=100) + mu\n",
    "    x2 = np.random.standard_t(df=1,size=100)\n",
    "    for i in x1[:counts[1]]:\n",
    "        t = []\n",
    "        t.append(i)\n",
    "        t.append(1)\n",
    "        df.append(t)\n",
    "        \n",
    "    for c in x2[:counts[0]]:\n",
    "        tt = []\n",
    "        tt.append(c)\n",
    "        tt.append(-1)\n",
    "        df.append(tt)\n",
    "        \n",
    "    return np.array(df)\n",
    "\n",
    "# doing the 100 trials runs for mu =1, 2, 3 for LDA\n",
    "bin1 = []\n",
    "for i in range(100):\n",
    "    train = data(mu=1)\n",
    "    test = data(mu=1)\n",
    "    x_train = train[:,0]\n",
    "    y_train = train[:,1]\n",
    "    x_test = test[:,0]\n",
    "    y_test = test[:,1]\n",
    "    # LDA\n",
    "    clf = LinearDiscriminantAnalysis()\n",
    "    lda = LinearDiscriminantAnalysis(solver='svd')\n",
    "    y_pred = lda.fit(x_train.reshape(-1,1), y_train).predict(x_test.reshape(-1,1))\n",
    "    error = 100 - np.sum(y_test == y_pred)\n",
    "    bin1.append(error)\n",
    "\n",
    "\n",
    "bin2 = []\n",
    "for i in range(100):\n",
    "    train = data(mu=2)\n",
    "    test = data(mu=2)\n",
    "    x_train = train[:,0]\n",
    "    y_train = train[:,1]\n",
    "    x_test = test[:,0]\n",
    "    y_test = test[:,1]\n",
    "    # LDA\n",
    "    clf = LinearDiscriminantAnalysis()\n",
    "    lda = LinearDiscriminantAnalysis(solver='svd')\n",
    "    y_pred = lda.fit(x_train.reshape(-1,1), y_train).predict(x_test.reshape(-1,1))\n",
    "    error = 100 - np.sum(y_test == y_pred)\n",
    "    bin2.append(error) \n",
    "\n",
    "\n",
    "bin3 = []\n",
    "for i in range(100):\n",
    "    train = data(mu=3)\n",
    "    test = data(mu=3)\n",
    "    x_train = train[:,0]\n",
    "    y_train = train[:,1]\n",
    "    x_test = test[:,0]\n",
    "    y_test = test[:,1]\n",
    "    # LDA\n",
    "    clf = LinearDiscriminantAnalysis()\n",
    "    lda = LinearDiscriminantAnalysis(solver='svd')\n",
    "    y_pred = lda.fit(x_train.reshape(-1,1), y_train).predict(x_test.reshape(-1,1))\n",
    "    error = 100 - np.sum(y_test == y_pred)\n",
    "    bin3.append(error)\n"
   ]
  },
  {
   "cell_type": "code",
   "execution_count": null,
   "id": "2698e3c3",
   "metadata": {
    "hideCode": false
   },
   "outputs": [],
   "source": [
    "# doing the 100 trials runs for mu =1, 2, 3 for Logistic Regression\n",
    "# function to create the data \n",
    "def data(mu):\n",
    "    # binomial distribution\n",
    "    s = np.random.binomial(1, 0.5, 100)\n",
    "    unique, counts = np.unique(s, return_counts=True)\n",
    "    df = []\n",
    "    # t-distribution\n",
    "    x1 = np.random.standard_t(df=1,size=100) + mu\n",
    "    x2 = np.random.standard_t(df=1,size=100)\n",
    "    for i in x1[:counts[1]]:\n",
    "        t = []\n",
    "        t.append(i)\n",
    "        t.append(1)\n",
    "        df.append(t)\n",
    "        \n",
    "    for c in x2[:counts[0]]:\n",
    "        tt = []\n",
    "        tt.append(c)\n",
    "        tt.append(-1)\n",
    "        df.append(tt)\n",
    "        \n",
    "    return np.array(df)\n",
    "\n",
    "bin1l = []\n",
    "for i in range(100):\n",
    "    train = data(mu=1)\n",
    "    test = data(mu=1)\n",
    "    x_train = train[:,0]\n",
    "    y_train = train[:,1]\n",
    "    x_test = test[:,0]\n",
    "    y_test = test[:,1]\n",
    "    # LDA\n",
    "    logreg = LogisticRegression()\n",
    "    logreg.fit(x_train.reshape(-1,1),y_train)\n",
    "    y_pred=logreg.predict(x_test.reshape(-1,1))\n",
    "    error = 100 - np.sum(y_test == y_pred)\n",
    "    bin1l.append(error)\n",
    "\n",
    "\n",
    "bin2l = []\n",
    "for i in range(100):\n",
    "    train = data(mu=2)\n",
    "    test = data(mu=2)\n",
    "    x_train = train[:,0]\n",
    "    y_train = train[:,1]\n",
    "    x_test = test[:,0]\n",
    "    y_test = test[:,1]\n",
    "    # LDA\n",
    "    logreg = LogisticRegression()\n",
    "    logreg.fit(x_train.reshape(-1,1),y_train)\n",
    "    y_pred=logreg.predict(x_test.reshape(-1,1))\n",
    "    error = 100 - np.sum(y_test == y_pred)\n",
    "    bin2l.append(error)\n",
    "\n",
    "bin3l = []\n",
    "for i in range(100):\n",
    "    train = data(mu=3)\n",
    "    test = data(mu=3)\n",
    "    x_train = train[:,0]\n",
    "    y_train = train[:,1]\n",
    "    x_test = test[:,0]\n",
    "    y_test = test[:,1]\n",
    "    # LDA\n",
    "    logreg = LogisticRegression()\n",
    "    logreg.fit(x_train.reshape(-1,1),y_train)\n",
    "    y_pred=logreg.predict(x_test.reshape(-1,1))\n",
    "    error = 100 - np.sum(y_test == y_pred)\n",
    "    bin3l.append(error)\n",
    "\n"
   ]
  },
  {
   "cell_type": "code",
   "execution_count": null,
   "id": "2986796a",
   "metadata": {
    "hideCode": false
   },
   "outputs": [],
   "source": [
    "plt.boxplot(bin1)\n",
    "plt.title(\"LDA Test Error: mu = 1\")\n",
    "plt.ylabel(\"Counts\")\n"
   ]
  },
  {
   "cell_type": "code",
   "execution_count": null,
   "id": "9c17b7f4",
   "metadata": {
    "hideCode": false
   },
   "outputs": [],
   "source": [
    "plt.boxplot(bin1l)\n",
    "plt.title(\"Logistic Regression Test Error: mu = 1\")\n",
    "plt.ylabel(\"Counts\")"
   ]
  },
  {
   "cell_type": "markdown",
   "id": "9dc5acb5",
   "metadata": {},
   "source": [
    "$$\n",
    "\\begin{aligned}\n",
    "&\\begin{array}{cccc}\n",
    "\\hline \\hline&\\text {LDA: Test Error(Mean, Var) } & &\\text {Logistic: Test Error(Mean, Var) } \\\\\n",
    "\\text{$\\mu_{1}=1$} & (44.86,12.96) & | & (47.09,44.24) \\\\\n",
    "\\hline\n",
    "\\end{array}\n",
    "\\end{aligned}\n",
    "$$"
   ]
  },
  {
   "cell_type": "markdown",
   "id": "2805c56f",
   "metadata": {},
   "source": [
    "### (b)"
   ]
  },
  {
   "cell_type": "code",
   "execution_count": null,
   "id": "8285a3e2",
   "metadata": {
    "hideCode": false
   },
   "outputs": [],
   "source": [
    "plt.boxplot(bin2)\n",
    "plt.title(\"LDA Test Error: mu = 2\")\n",
    "plt.ylabel(\"Counts\")\n"
   ]
  },
  {
   "cell_type": "code",
   "execution_count": null,
   "id": "d8b92487",
   "metadata": {
    "hideCode": false
   },
   "outputs": [],
   "source": [
    "plt.boxplot(bin3)\n",
    "plt.title(\"LDA Test Error: mu = 3\")\n",
    "plt.ylabel(\"Counts\")"
   ]
  },
  {
   "cell_type": "code",
   "execution_count": null,
   "id": "acea38b2",
   "metadata": {
    "hideCode": false
   },
   "outputs": [],
   "source": [
    "plt.boxplot(bin2l)\n",
    "plt.title(\"Logistic Regression Test Error: mu = 2\")\n",
    "plt.ylabel(\"Counts\")"
   ]
  },
  {
   "cell_type": "code",
   "execution_count": null,
   "id": "310e0060",
   "metadata": {
    "hideCode": false
   },
   "outputs": [],
   "source": [
    "plt.boxplot(bin3l)\n",
    "plt.title(\"Logistic Regression Test Error: mu = 3\")\n",
    "plt.ylabel(\"Counts\")"
   ]
  },
  {
   "cell_type": "markdown",
   "id": "98b65d23",
   "metadata": {},
   "source": [
    "$$\n",
    "\\begin{aligned}\n",
    "&\\begin{array}{cccc}\n",
    "\\hline \\hline&\\text {LDA: Test Error(Mean, Var) } & &\\text {Logistic: Test Error(Mean, Var) } \\\\\n",
    "\\text{$\\mu_{2}=2$} & (40.63,73.45) & | & (42.53,116.46) \\\\\n",
    "\\text{$\\mu_{3}=3$} & (38.65,101.45) & | & (37.5,198.93) \\\\\n",
    "\\hline\n",
    "\\end{array}\n",
    "\\end{aligned}\n",
    "$$"
   ]
  },
  {
   "cell_type": "markdown",
   "id": "b92febfa",
   "metadata": {},
   "source": [
    "As the value of $\\mu_1$ grows larger, the value of the mean of the test error becomes smaller. However, it seems to be the oppisite case for the variance of the test error, it looks like the variance of the test error becomes increasingly larger as the value of $\\mu_1$ becomes larger "
   ]
  },
  {
   "cell_type": "markdown",
   "id": "e310b77d",
   "metadata": {},
   "source": [
    "## Problem 3: Maximal Margin Classifier"
   ]
  },
  {
   "cell_type": "markdown",
   "id": "22bf06c0",
   "metadata": {},
   "source": [
    "### (a/b)"
   ]
  },
  {
   "cell_type": "code",
   "execution_count": 593,
   "id": "37b38f9a",
   "metadata": {
    "hideCode": false
   },
   "outputs": [
    {
     "data": {
      "text/plain": [
       "[<matplotlib.lines.Line2D at 0x7fa7717cd4f0>]"
      ]
     },
     "execution_count": 593,
     "metadata": {},
     "output_type": "execute_result"
    },
    {
     "data": {
      "image/png": "[encoded data removed]",
      "text/plain": [
       "<Figure size 432x288 with 1 Axes>"
      ]
     },
     "metadata": {
      "needs_background": "light"
     },
     "output_type": "display_data"
    }
   ],
   "source": [
    "# Constructing the scatter plot\n",
    "X1 = [3,2,4,1,2,4,4]\n",
    "X2 = [4,2,4,4,1,3,1]\n",
    "y = [\"Red\",\"Red\",\"Red\",\"Red\",\"Blue\",\"Blue\",\"Blue\"]\n",
    "\n",
    "X = np.array([[3,4],[2,2],[4,4],[1,4],[2,1],[4,3],[4,1]]) \n",
    "Y = [0] * 4 + [1] * 3\n",
    "Y\n",
    "clf = svm.SVC(kernel='linear', C=100)\n",
    "clf.fit(X, Y)\n",
    "plt.scatter(X[:, 0], X[:, 1], c=y)\n",
    "\n",
    "\n",
    "# adding the optimal separating hyperplane\n",
    "betas = clf.coef_[0]\n",
    "m = -betas[0]/betas[1]\n",
    "xx = np.linspace(0, 4)\n",
    "yy = m * xx - (clf.intercept_[0]) / betas[1]\n",
    "pl.set_cmap(pl.cm.Paired)\n",
    "pl.plot(xx, yy, 'k-')"
   ]
  },
  {
   "cell_type": "markdown",
   "id": "3839a6da",
   "metadata": {},
   "source": [
    "The equation for the hyperplane line is $-1.0004096 + 1.9998464X_{1} -1.9996928X_{2} = 0$"
   ]
  },
  {
   "cell_type": "markdown",
   "id": "a15859e2",
   "metadata": {},
   "source": [
    "### (c)\n",
    "Classify to Red if $-1.0004096 + 1.9998464X_{1} -1.9996928X_{2} > 0$ and classify to Blue when $-1.0004096 + 1.9998464X_{1} -1.9996928X_{2} \\leq 0$"
   ]
  },
  {
   "cell_type": "markdown",
   "id": "90cfc1e7",
   "metadata": {},
   "source": [
    "### (d/e)"
   ]
  },
  {
   "cell_type": "code",
   "execution_count": 599,
   "id": "e4747f00",
   "metadata": {
    "hideCode": false
   },
   "outputs": [
    {
     "data": {
      "image/png": "[encoded data removed]",
      "text/plain": [
       "<Figure size 432x288 with 1 Axes>"
      ]
     },
     "metadata": {
      "needs_background": "light"
     },
     "output_type": "display_data"
    }
   ],
   "source": [
    "#the margin for the maximal margin hyperplane.\n",
    "b_max = clf.support_vectors_[0]\n",
    "yy_max = m * xx + (b_max[1] - m * b_max[0])\n",
    "plt.set_cmap(pl.cm.Paired)\n",
    "plt.plot(xx, yy_max, '.')\n",
    "pl.plot(xx, yy, 'k-')\n",
    "b_min = clf.support_vectors_[-1]\n",
    "yy_min = m * xx + (b_min[1] - m * b_min[0])\n",
    "plt.plot(xx, yy_min, 'k--')\n",
    "plt.set_cmap(pl.cm.Paired)\n",
    "\n",
    "# this indicate the support vectors for the maximal margin classifer\n",
    "plt.scatter(X[:, 0], X[:, 1], c=y)\n",
    "new = np.array([[2.,2.],[4.,3.],[4.,4.]])\n",
    "plt.scatter(new[:, 0], new[:, 1],\n",
    "           s=200, marker=\"X\")\n",
    "plt.show()"
   ]
  },
  {
   "cell_type": "markdown",
   "id": "9fe051b6",
   "metadata": {},
   "source": [
    "### (f)\n",
    "Since the 7th observation is not a support vector, a slight movement from the observation would not affect the maximal margin hyperplane. The 7th observation would only affect the maximal margin hyperplane if it starts to move within the margin for the maximal margin hyperplane and become a support vector. "
   ]
  },
  {
   "cell_type": "markdown",
   "id": "f3190964",
   "metadata": {},
   "source": [
    "### (g)"
   ]
  },
  {
   "cell_type": "code",
   "execution_count": 597,
   "id": "cdf6d08d",
   "metadata": {
    "hideCode": false
   },
   "outputs": [
    {
     "data": {
      "image/png": "[encoded data removed]",
      "text/plain": [
       "<Figure size 432x288 with 1 Axes>"
      ]
     },
     "metadata": {
      "needs_background": "light"
     },
     "output_type": "display_data"
    }
   ],
   "source": [
    "# adding the optimal separating hyperplane\n",
    "pl.set_cmap(pl.cm.Paired)\n",
    "pl.plot(xx, yy, 'k-')\n",
    "plt.plot(xx, yy_max, '.')\n",
    "plt.plot(xx, yy_min, 'k--')\n",
    "xxx = np.linspace(0, 4)\n",
    "yyy = 2*m * xxx - (5*(clf.intercept_[0]) / betas[1])\n",
    "plt.plot(xxx, yyy, 'x')\n",
    "\n",
    "# this indicate the support vectors for the maximal margin classifer\n",
    "plt.scatter(X[:, 0], X[:, 1], c=y)\n",
    "new = np.array([[2.,2.],[4.,3.],[4.,4.]])\n",
    "plt.scatter(new[:, 0], new[:, 1],\n",
    "           s=200, marker=\"X\")\n",
    "plt.show()"
   ]
  },
  {
   "cell_type": "markdown",
   "id": "19b32218",
   "metadata": {},
   "source": [
    "The equation for this hyperplane is $-4.0008192 + 9.999232X_{1} -9.998464X_{2} = 0$"
   ]
  },
  {
   "cell_type": "markdown",
   "id": "86924088",
   "metadata": {},
   "source": [
    "Our program outputted three support vectors, however, there is another vector that is on the maximal margin classifer line at [2,1]. For simplicity, we will keep the support vectors orginally outputted by the program."
   ]
  },
  {
   "cell_type": "markdown",
   "id": "5e549ba6",
   "metadata": {},
   "source": [
    "### (h)"
   ]
  },
  {
   "cell_type": "code",
   "execution_count": 598,
   "id": "7b9e760a",
   "metadata": {
    "hideCode": false
   },
   "outputs": [
    {
     "data": {
      "image/png": "[encoded data removed]",
      "text/plain": [
       "<Figure size 432x288 with 1 Axes>"
      ]
     },
     "metadata": {
      "needs_background": "light"
     },
     "output_type": "display_data"
    }
   ],
   "source": [
    "# adding the optimal separating hyperplane\n",
    "pl.set_cmap(pl.cm.Paired)\n",
    "pl.plot(xx, yy, 'k-')\n",
    "plt.plot(xx, yy_max, '.')\n",
    "plt.plot(xx, yy_min, '.')\n",
    "xxx = np.linspace(0, 4)\n",
    "yyy = 2*m * xxx - (5*(clf.intercept_[0]) / betas[1])\n",
    "plt.plot(xxx, yyy, 'x')\n",
    "\n",
    "# this indicate the support vectors for the maximal margin classifer\n",
    "plt.scatter(X[:, 0], X[:, 1], c=y)\n",
    "new = np.array([[2.,2.],[4.,3.],[4.,4.]])\n",
    "plt.scatter(new[:, 0], new[:, 1],\n",
    "           s=200, marker=\"X\")\n",
    "\n",
    "x2 = 3.0\n",
    "y2 = 1\n",
    "\n",
    "# adding an additio0nal observation on the plot so that the two classes\n",
    "# are no longer separable by the hyperplane\n",
    "plt.scatter(x2, y2, c='red',s=80)\n",
    "plt.show()"
   ]
  },
  {
   "cell_type": "markdown",
   "id": "acdf78ec",
   "metadata": {},
   "source": [
    "\n",
    "\n",
    "\\textbf{Pledge:}\n",
    "\\hspace{0.3in}Please sign below (print full name) after checking ($\\checkmark$)  the following. If you can not honestly check each of these responses, please email me at kbala@ucdavis.edu to explain your situation.\n",
    "\\begin{itemize}\n",
    "\\item We pledge that we are honest students with academic integrity and we have not cheated on this homework.\n",
    "\n",
    "\\item These answers are our own work.\n",
    "\n",
    "\\item We did not give any other students assistance on this homework.\n",
    "\n",
    "\\item We understand that to submit work that is not our own and pretend that it is our is a violation of the UC Davis code of conduct and will be reported to Student Judicial Affairs.\n",
    "\n",
    "\\item We understand that suspected misconduct on this homework will be reported to the Office of Student Support and Judicial Affairs and, if established, will result in disciplinary sanctions up through Dismissal from the University and a grade penalty up to a grade of 'F' for the course.\n",
    "\\end{itemize}\n",
    "Team Member 1: Truc Le\n",
    "\\hspace{2in}\n",
    "Team Member 2: Alexander Chernikov\n",
    "\n"
   ]
  }
 ],
 "metadata": {
  "celltoolbar": "Hide code",
  "kernelspec": {
   "display_name": "Python 3",
   "language": "python",
   "name": "python3"
  },
  "language_info": {
   "codemirror_mode": {
    "name": "ipython",
    "version": 3
   },
   "file_extension": ".py",
   "mimetype": "text/x-python",
   "name": "python",
   "nbconvert_exporter": "python",
   "pygments_lexer": "ipython3",
   "version": "3.8.5"
  },
  "latex_envs": {
   "LaTeX_envs_menu_present": true,
   "autoclose": false,
   "autocomplete": true,
   "bibliofile": "biblio.bib",
   "cite_by": "apalike",
   "current_citInitial": 1,
   "eqLabelWithNumbers": true,
   "eqNumInitial": 1,
   "hotkeys": {
    "equation": "Ctrl-E",
    "itemize": "Ctrl-I"
   },
   "labels_anchors": false,
   "latex_user_defs": false,
   "report_style_numbering": false,
   "user_envs_cfg": false
  }
 },
 "nbformat": 4,
 "nbformat_minor": 5
}
